{
 "cells": [
  {
   "cell_type": "markdown",
   "id": "9778849a",
   "metadata": {},
   "source": [
    "CSC/MAT-338: Machine Learning\n",
    "Profs. McKinney and Yoon\n",
    "Fall 2025\n",
    "\n",
    "Assignment 00: Python Review\n",
    "\n",
    "This assignment will serve as a review of fundamentals of Python and a quick introduction to the use of Jupyter notebooks."
   ]
  },
  {
   "cell_type": "code",
   "execution_count": 25,
   "id": "fda2b5c7",
   "metadata": {},
   "outputs": [],
   "source": [
    "from math import sqrt # This is needed to use sqrt().  It's good practice to put library imports at the top."
   ]
  },
  {
   "cell_type": "markdown",
   "id": "f6435a7d",
   "metadata": {},
   "source": [
    "TASK 1: Variables and IO\n",
    "\n",
    "In this task, define:\n",
    "- A integer variable called foo, with your choice of value\n",
    "- A floating point variable called bar, with your choice of value\n",
    "- A string variable called myname, containing your name\n",
    "\n",
    "Using the print() function, print the names, values, and types of each of the variables.  You can use either f-strings or string concatenation for the printing.\n",
    "\n",
    "Sample output:\n",
    "\n",
    "The value of foo is 3 and its type is <class 'int'>\n",
    "\n",
    "The value of bar is 3.14 and its type is <class 'float'>\n",
    "\n",
    "The value of myname is Colin and its type is <class 'str'>"
   ]
  },
  {
   "cell_type": "code",
   "execution_count": 26,
   "id": "3c50eb62",
   "metadata": {},
   "outputs": [
    {
     "name": "stdout",
     "output_type": "stream",
     "text": [
      "The value of foo is 6, and its type is <class 'int'>\n",
      "The value of bar is 6.139, and its type is <class 'float'>\n",
      "The value of myname is Nick Plumb, and its type is <class 'str'>\n"
     ]
    }
   ],
   "source": [
    "# Code goes here\n",
    "foo = 6\n",
    "bar = 6.139\n",
    "myname = \"Nick Plumb\"\n",
    "print(f\"The value of foo is {foo}, and its type is {type(foo)}\")\n",
    "print(f\"The value of bar is {bar}, and its type is {type(bar)}\")\n",
    "print(f\"The value of myname is {myname}, and its type is {type(myname)}\")"
   ]
  },
  {
   "cell_type": "markdown",
   "id": "5a03c5ee",
   "metadata": {},
   "source": [
    "TASK 2: Control Structures\n",
    "\n",
    "Jupyter notebooks are a different way to structure a Python project.  Instead of the entire file running, notebooks allow you to run specific cells.  You can go back and re-run any cell in any order, but need to be careful to ensure variables have been defined before being used.  For example, if this cell had print(foo), but you had not already run the code cell above that defined foo, an error would occur.\n",
    "\n",
    "For this task:\n",
    "- Use a conditional to check whether the value of foo is smaller than the value of bar.  If foo is smaller than bar, print a message to this effect.  Otherwise, print a different message.\n",
    "- Use a loop to print the numbers 1 through 10, along with their squares.\n",
    "- Use another loop to print the numbers 1 through 10, along with their squares, except you should skip 7 and its square.  (Hint: use the continue instruction.  Look up what the difference is between continue and break.)"
   ]
  },
  {
   "cell_type": "code",
   "execution_count": 27,
   "id": "12ed19f2",
   "metadata": {},
   "outputs": [
    {
     "name": "stdout",
     "output_type": "stream",
     "text": [
      "foo is smaller than bar\n",
      "0 0\n",
      "1 1\n",
      "2 4\n",
      "3 9\n",
      "4 16\n",
      "5 25\n",
      "6 36\n",
      "7 49\n",
      "8 64\n",
      "9 81\n",
      "10 100\n",
      "0 0\n",
      "1 1\n",
      "2 4\n",
      "3 9\n",
      "4 16\n",
      "5 25\n",
      "6 36\n",
      "8 64\n",
      "9 81\n",
      "10 100\n"
     ]
    }
   ],
   "source": [
    "# Code goes here\n",
    "if foo < bar:\n",
    "    print(\"foo is smaller than bar\")\n",
    "else:\n",
    "    print(\"foo is not smaller than bar\")\n",
    "\n",
    "for i in range(0, 11):\n",
    "    print(i, i*i)\n",
    "\n",
    "for j in range(0,11):\n",
    "    if j == 7:\n",
    "        continue\n",
    "    print(j, j*j)"
   ]
  },
  {
   "cell_type": "markdown",
   "id": "943562eb",
   "metadata": {},
   "source": [
    "TASK 3: Functions\n",
    "\n",
    "Write a function that accepts an integer.  You may assume that the function will only ever get passed an integer 2 or larger, and so can ignore type checking.  The function should, using a loop, determine if the integer given is prime.  If so, it should return True.  Otherwise, it should return False.  (Hint: you can use the % operator to check the remainder upon division by various numbers.  For primes, you need only check integers from 2 to the floor of the square root of the number.).  Demonstrate that your function works correctly by passing it a few prime numbers and a few composite (non-prime) numbers.\n",
    "\n",
    "Sample output: \n",
    "\n",
    "Is the number 3 prime?: True"
   ]
  },
  {
   "cell_type": "code",
   "execution_count": 28,
   "id": "903c54f5",
   "metadata": {},
   "outputs": [
    {
     "name": "stdout",
     "output_type": "stream",
     "text": [
      "True\n",
      "True\n",
      "False\n",
      "False\n"
     ]
    }
   ],
   "source": [
    "def isPrime(num: int) -> bool: # Notice how here I've specified that the input should be an int and the return value should be a bool\n",
    "    for i in range(2, int(sqrt(num)) + 1):\n",
    "        if num % i == 0:\n",
    "            return False\n",
    "    return True\n",
    "\n",
    "print(isPrime(7))\n",
    "print(isPrime(59))\n",
    "print(isPrime(58))\n",
    "print(isPrime(133))"
   ]
  },
  {
   "cell_type": "markdown",
   "id": "9b981b0f",
   "metadata": {},
   "source": [
    "TASK 4: Object-oriented Programming"
   ]
  },
  {
   "cell_type": "markdown",
   "id": "4143d132",
   "metadata": {},
   "source": [
    "Define two objects, called Vertex and Triangle.  A vertex will be a pair of coordinates, for its x and y coordinates.  A triangle will be an object having three Vertex objects within it.  The Triangle class should also have a property called Area, and a method to compute and return the area.  To compute the area of a triangle given only its three vertices, you will need to write a Distance function that returns the distance between two vertices, then use Heron's formula: https://en.wikipedia.org/wiki/Heron%27s_formula"
   ]
  },
  {
   "cell_type": "code",
   "execution_count": 29,
   "id": "af918624",
   "metadata": {},
   "outputs": [],
   "source": [
    "class Vertex:\n",
    "    def __init__(self, xcoord, ycoord):\n",
    "        self.x = xcoord\n",
    "        self.y = ycoord\n",
    "\n",
    "\n",
    "def Distance(v1: Vertex, v2: Vertex):\n",
    "    return sqrt((v2.x-v1.x)**2 + (v2.y-v1.y)**2)\n",
    "\n",
    "\n",
    "class Triangle:\n",
    "    def __init__(self, v1, v2, v3):\n",
    "        self.v1 = v1\n",
    "        self.v2 = v2\n",
    "        self.v3 = v3\n",
    "\n",
    "    def area(self):\n",
    "        s = (0.5)*(Distance(self.v1, self.v2) + Distance(self.v2, self.v3) + Distance(self.v3, self.v1))\n",
    "        return sqrt(s*(s-Distance(self.v1,self.v2))*(s-Distance(self.v2,self.v3))*(s-Distance(self.v3,self.v1)))\n",
    "    "
   ]
  },
  {
   "cell_type": "markdown",
   "id": "e9e80f7f",
   "metadata": {},
   "source": [
    "Now that you've defined functions and classes, you can test them by creating specific instances of them below.  Create three vertices, a triangle using them, and then print the area of the resulting triangle."
   ]
  },
  {
   "cell_type": "code",
   "execution_count": 30,
   "id": "a741e0a9",
   "metadata": {},
   "outputs": [
    {
     "name": "stdout",
     "output_type": "stream",
     "text": [
      "87.99999999999999\n"
     ]
    }
   ],
   "source": [
    "# Code goes here\n",
    "v1 = Vertex(0,0)\n",
    "v2 = Vertex(10,12)\n",
    "v3 = Vertex(18,4)\n",
    "t = Triangle(v1,v2,v3)\n",
    "print(t.area())"
   ]
  }
 ],
 "metadata": {
  "kernelspec": {
   "display_name": "Python 3",
   "language": "python",
   "name": "python3"
  },
  "language_info": {
   "codemirror_mode": {
    "name": "ipython",
    "version": 3
   },
   "file_extension": ".py",
   "mimetype": "text/x-python",
   "name": "python",
   "nbconvert_exporter": "python",
   "pygments_lexer": "ipython3",
   "version": "3.12.0"
  }
 },
 "nbformat": 4,
 "nbformat_minor": 5
}

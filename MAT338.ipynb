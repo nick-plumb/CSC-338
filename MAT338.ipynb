{
 "cells": [
  {
   "cell_type": "code",
   "execution_count": 27,
   "metadata": {},
   "outputs": [
    {
     "name": "stdout",
     "output_type": "stream",
     "text": [
      "6.140000000000001\n"
     ]
    }
   ],
   "source": [
    "a = 3\n",
    "b = 3.14\n",
    "\n",
    "print(a+b)"
   ]
  },
  {
   "cell_type": "code",
   "execution_count": 28,
   "metadata": {},
   "outputs": [
    {
     "name": "stdout",
     "output_type": "stream",
     "text": [
      "Hello, World! I love computer science!\n",
      "Hello\n",
      "<class 'int'>\n"
     ]
    }
   ],
   "source": [
    "mystring = 'Hello, World!'\n",
    "mystring2 = 'I love computer science!'\n",
    "\n",
    "print(mystring + ' ' + mystring2)\n",
    "\n",
    "print(mystring[0:5])\n",
    "\n",
    "print(type(a))"
   ]
  },
  {
   "cell_type": "code",
   "execution_count": 29,
   "metadata": {},
   "outputs": [
    {
     "name": "stdout",
     "output_type": "stream",
     "text": [
      "a is less than b\n"
     ]
    }
   ],
   "source": [
    "if a < b:\n",
    "    print('a is less than b')\n",
    "else:\n",
    "    print('a is not less than b')"
   ]
  },
  {
   "cell_type": "code",
   "execution_count": null,
   "metadata": {},
   "outputs": [],
   "source": [
    "def collatz(n: int) -> int:\n",
    "    if n % 2 == 1:\n",
    "        return 3*n+1\n",
    "    else:\n",
    "        return n/2\n",
    "    \n",
    "mynum = 7\n",
    "while (mynum != 1):\n",
    "    print(mynum)\n",
    "    mynum = collatz(mynum)"
   ]
  },
  {
   "cell_type": "code",
   "execution_count": 34,
   "metadata": {},
   "outputs": [
    {
     "name": "stdout",
     "output_type": "stream",
     "text": [
      "5\n",
      "1\n"
     ]
    }
   ],
   "source": [
    "class Enemy:\n",
    "\n",
    "    def __init__(self, health):\n",
    "        self.health = health\n",
    "\n",
    "    def damage(self, damageamnt):\n",
    "        self.health = self.health - damageamnt\n",
    "    \n",
    "\n",
    "\n",
    "class Goomba(Enemy):\n",
    "\n",
    "    def __init__(self, health):\n",
    "        super().__init__(health)\n",
    "\n",
    "        self.color = 'Brown'\n",
    "\n",
    "    \n",
    "\n",
    "enemy1 = Goomba(5)\n",
    "print(enemy1.health)\n",
    "enemy1.damage(4)\n",
    "print(enemy1.health)"
   ]
  }
 ],
 "metadata": {
  "kernelspec": {
   "display_name": "Python 3",
   "language": "python",
   "name": "python3"
  },
  "language_info": {
   "codemirror_mode": {
    "name": "ipython",
    "version": 3
   },
   "file_extension": ".py",
   "mimetype": "text/x-python",
   "name": "python",
   "nbconvert_exporter": "python",
   "pygments_lexer": "ipython3",
   "version": "3.12.0"
  }
 },
 "nbformat": 4,
 "nbformat_minor": 2
}
